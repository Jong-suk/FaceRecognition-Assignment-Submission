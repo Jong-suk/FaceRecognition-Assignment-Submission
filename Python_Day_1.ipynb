{
  "nbformat": 4,
  "nbformat_minor": 0,
  "metadata": {
    "colab": {
      "name": "Python Day-1.ipynb",
      "provenance": [],
      "authorship_tag": "ABX9TyPYuDgD1lXx1sRvyQOosjGZ",
      "include_colab_link": true
    },
    "kernelspec": {
      "name": "python3",
      "display_name": "Python 3"
    },
    "language_info": {
      "name": "python"
    }
  },
  "cells": [
    {
      "cell_type": "markdown",
      "metadata": {
        "id": "view-in-github",
        "colab_type": "text"
      },
      "source": [
        "<a href=\"https://colab.research.google.com/github/Jong-suk/FaceRecognition-Assignment-Submission/blob/main/Python_Day_1.ipynb\" target=\"_parent\"><img src=\"https://colab.research.google.com/assets/colab-badge.svg\" alt=\"Open In Colab\"/></a>"
      ]
    },
    {
      "cell_type": "markdown",
      "metadata": {
        "id": "qzP-_tYKnSqs"
      },
      "source": [
        "# **Python Day-1**\n",
        "# **Assignment-1:** Take input for a list and sort it in descending order."
      ]
    },
    {
      "cell_type": "code",
      "metadata": {
        "id": "EgCexj6rnwjx"
      },
      "source": [
        "list = []"
      ],
      "execution_count": 1,
      "outputs": []
    },
    {
      "cell_type": "code",
      "metadata": {
        "colab": {
          "base_uri": "https://localhost:8080/"
        },
        "id": "vYYRJ3w7n5GO",
        "outputId": "2f22cf1d-9298-491a-8be5-0792ef41b1fd"
      },
      "source": [
        "n = int(input(\"Enter number of elements:\"))"
      ],
      "execution_count": 2,
      "outputs": [
        {
          "output_type": "stream",
          "text": [
            "Enter number of elements:5\n"
          ],
          "name": "stdout"
        }
      ]
    },
    {
      "cell_type": "code",
      "metadata": {
        "colab": {
          "base_uri": "https://localhost:8080/"
        },
        "id": "m_Uw0YfPoI0m",
        "outputId": "bf5341d7-f569-45ac-825a-506bb53709de"
      },
      "source": [
        "for i in range (n):\n",
        "  list.append(int(input(\"Enter a element:\")))"
      ],
      "execution_count": 4,
      "outputs": [
        {
          "output_type": "stream",
          "text": [
            "Enter a element:2\n",
            "Enter a element:5\n",
            "Enter a element:3\n",
            "Enter a element:4\n",
            "Enter a element:1\n"
          ],
          "name": "stdout"
        }
      ]
    },
    {
      "cell_type": "code",
      "metadata": {
        "colab": {
          "base_uri": "https://localhost:8080/"
        },
        "id": "YBqx21G6py-b",
        "outputId": "369e5f6c-14ea-4d34-a679-174537b183bd"
      },
      "source": [
        "print(list)"
      ],
      "execution_count": 11,
      "outputs": [
        {
          "output_type": "stream",
          "text": [
            "[1, 2, 3, 4, 5]\n"
          ],
          "name": "stdout"
        }
      ]
    },
    {
      "cell_type": "code",
      "metadata": {
        "id": "nvYkQ7DGp9vz"
      },
      "source": [
        ""
      ],
      "execution_count": null,
      "outputs": []
    }
  ]
}